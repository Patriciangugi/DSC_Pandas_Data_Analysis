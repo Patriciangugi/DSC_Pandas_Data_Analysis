{
 "cells": [
  {
   "cell_type": "markdown",
   "metadata": {},
   "source": [
    "1. The first thing to do is to import necessary libraries. Let's import pandas and numpy using correct aliases."
   ]
  },
  {
   "cell_type": "code",
   "execution_count": 60,
   "metadata": {},
   "outputs": [],
   "source": [
    "import pandas as pd\n",
    "import numpy as np\n",
    "import matplotlib.pyplot as plt"
   ]
  },
  {
   "cell_type": "markdown",
   "metadata": {},
   "source": [
    "2. Loading in the titanic dataset to a Pandas DataFrame named `titanic_df`:"
   ]
  },
  {
   "cell_type": "code",
   "execution_count": 61,
   "metadata": {},
   "outputs": [],
   "source": [
    "titanic_df = pd.read_csv('titanic.csv')"
   ]
  },
  {
   "cell_type": "markdown",
   "metadata": {},
   "source": [
    "3. We want to inspect the dataframe to see what column we have, data types for each feature, and nulls:"
   ]
  },
  {
   "cell_type": "code",
   "execution_count": 62,
   "metadata": {},
   "outputs": [
    {
     "name": "stdout",
     "output_type": "stream",
     "text": [
      "<class 'pandas.core.frame.DataFrame'>\n",
      "RangeIndex: 895 entries, 0 to 894\n",
      "Data columns (total 12 columns):\n",
      " #   Column       Non-Null Count  Dtype  \n",
      "---  ------       --------------  -----  \n",
      " 0   PassengerId  895 non-null    int64  \n",
      " 1   Survived     895 non-null    int64  \n",
      " 2   Pclass       895 non-null    int64  \n",
      " 3   Name         895 non-null    object \n",
      " 4   Sex          895 non-null    object \n",
      " 5   Age          716 non-null    float64\n",
      " 6   SibSp        895 non-null    int64  \n",
      " 7   Parch        895 non-null    int64  \n",
      " 8   Ticket       895 non-null    object \n",
      " 9   Fare         895 non-null    float64\n",
      " 10  Cabin        205 non-null    object \n",
      " 11  Embarked     893 non-null    object \n",
      "dtypes: float64(2), int64(5), object(5)\n",
      "memory usage: 84.0+ KB\n"
     ]
    }
   ],
   "source": [
    "titanic_df.info()"
   ]
  },
  {
   "cell_type": "markdown",
   "metadata": {},
   "source": [
    "There are nulls in three columns:\n",
    "- Age\n",
    "- Cabin\n",
    "- Embarked\n",
    "\n",
    "We will have to deal with these."
   ]
  },
  {
   "cell_type": "markdown",
   "metadata": {},
   "source": [
    "4. A quick inspection of the column names reveal that we might want to rename these columns so that it is more explicit as to what they mean. Some column names to consider renaming are:\n",
    "- Pclass to 'Passenger_Class'\n",
    "- SibSp to 'Sibling_Spouse_Count'\n",
    "- Parch to 'Parents_Children_Count'"
   ]
  },
  {
   "cell_type": "code",
   "execution_count": 63,
   "metadata": {},
   "outputs": [
    {
     "data": {
      "text/plain": [
       "Index(['PassengerId', 'Survived', 'Passenger_Class', 'Name', 'Sex', 'Age',\n",
       "       'Sibling_Spouse_Count', 'Parents_Children_Count', 'Ticket', 'Fare',\n",
       "       'Cabin', 'Embarked'],\n",
       "      dtype='object')"
      ]
     },
     "execution_count": 63,
     "metadata": {},
     "output_type": "execute_result"
    }
   ],
   "source": [
    "titanic_df.rename(columns={'Pclass': 'Passenger_Class', 'SibSp': 'Sibling_Spouse_Count', 'Parch': 'Parents_Children_Count'}, inplace=True)\n",
    "titanic_df.columns"
   ]
  },
  {
   "cell_type": "markdown",
   "metadata": {},
   "source": [
    "5. Inspect distibution in the `Cabin` column."
   ]
  },
  {
   "cell_type": "code",
   "execution_count": 64,
   "metadata": {},
   "outputs": [
    {
     "data": {
      "text/plain": [
       "Cabin\n",
       "B96 B98        4\n",
       "G6             4\n",
       "C23 C25 C27    4\n",
       "E101           3\n",
       "F33            3\n",
       "              ..\n",
       "C32            1\n",
       "E34            1\n",
       "C7             1\n",
       "C54            1\n",
       "C148           1\n",
       "Name: count, Length: 147, dtype: int64"
      ]
     },
     "execution_count": 64,
     "metadata": {},
     "output_type": "execute_result"
    }
   ],
   "source": [
    "titanic_df['Cabin'].value_counts()"
   ]
  },
  {
   "cell_type": "markdown",
   "metadata": {},
   "source": [
    "6. Get the number of nulls in the `Cabin` column:"
   ]
  },
  {
   "cell_type": "code",
   "execution_count": 65,
   "metadata": {},
   "outputs": [
    {
     "data": {
      "text/plain": [
       "690"
      ]
     },
     "execution_count": 65,
     "metadata": {},
     "output_type": "execute_result"
    }
   ],
   "source": [
    "titanic_df['Cabin'].isna().sum()"
   ]
  },
  {
   "cell_type": "markdown",
   "metadata": {},
   "source": [
    "6. The .value_counts() and the null counting tells us that:\n",
    "    a) the category is too granular and the mode is not sufficiently dominant to impute with\n",
    "    b) the vast majority of the column are nulls\n",
    "\n",
    "This is a case where imputation would lead to severe data skewing. It is best just to drop this column. Let's do it:"
   ]
  },
  {
   "cell_type": "code",
   "execution_count": 66,
   "metadata": {},
   "outputs": [
    {
     "data": {
      "text/plain": [
       "Index(['PassengerId', 'Survived', 'Passenger_Class', 'Name', 'Sex', 'Age',\n",
       "       'Sibling_Spouse_Count', 'Parents_Children_Count', 'Ticket', 'Fare',\n",
       "       'Embarked'],\n",
       "      dtype='object')"
      ]
     },
     "execution_count": 66,
     "metadata": {},
     "output_type": "execute_result"
    }
   ],
   "source": [
    "titanic_df.drop(columns= ['Cabin'], inplace=True)\n",
    "titanic_df.columns"
   ]
  },
  {
   "cell_type": "markdown",
   "metadata": {},
   "source": [
    "7. Before doing any kind of statistical imputation, it is good to check if you have any duplicates in your data. Significant duplicates can skew imputations based off calculated statistics, so let's take care of this first. Create a boolean mask and filter to return any duplicated rows as a DataFrame:"
   ]
  },
  {
   "cell_type": "code",
   "execution_count": 67,
   "metadata": {},
   "outputs": [
    {
     "data": {
      "text/html": [
       "<div>\n",
       "<style scoped>\n",
       "    .dataframe tbody tr th:only-of-type {\n",
       "        vertical-align: middle;\n",
       "    }\n",
       "\n",
       "    .dataframe tbody tr th {\n",
       "        vertical-align: top;\n",
       "    }\n",
       "\n",
       "    .dataframe thead th {\n",
       "        text-align: right;\n",
       "    }\n",
       "</style>\n",
       "<table border=\"1\" class=\"dataframe\">\n",
       "  <thead>\n",
       "    <tr style=\"text-align: right;\">\n",
       "      <th></th>\n",
       "      <th>PassengerId</th>\n",
       "      <th>Survived</th>\n",
       "      <th>Passenger_Class</th>\n",
       "      <th>Name</th>\n",
       "      <th>Sex</th>\n",
       "      <th>Age</th>\n",
       "      <th>Sibling_Spouse_Count</th>\n",
       "      <th>Parents_Children_Count</th>\n",
       "      <th>Ticket</th>\n",
       "      <th>Fare</th>\n",
       "      <th>Embarked</th>\n",
       "    </tr>\n",
       "  </thead>\n",
       "  <tbody>\n",
       "    <tr>\n",
       "      <th>54</th>\n",
       "      <td>7</td>\n",
       "      <td>0</td>\n",
       "      <td>1</td>\n",
       "      <td>McCarthy, Mr. Timothy J</td>\n",
       "      <td>male</td>\n",
       "      <td>54.0</td>\n",
       "      <td>0</td>\n",
       "      <td>0</td>\n",
       "      <td>17463</td>\n",
       "      <td>51.8625</td>\n",
       "      <td>S</td>\n",
       "    </tr>\n",
       "    <tr>\n",
       "      <th>90</th>\n",
       "      <td>74</td>\n",
       "      <td>0</td>\n",
       "      <td>3</td>\n",
       "      <td>Chronopoulos, Mr. Apostolos</td>\n",
       "      <td>male</td>\n",
       "      <td>26.0</td>\n",
       "      <td>1</td>\n",
       "      <td>0</td>\n",
       "      <td>2680</td>\n",
       "      <td>14.4542</td>\n",
       "      <td>C</td>\n",
       "    </tr>\n",
       "    <tr>\n",
       "      <th>146</th>\n",
       "      <td>141</td>\n",
       "      <td>0</td>\n",
       "      <td>3</td>\n",
       "      <td>Boulos, Mrs. Joseph (Sultana)</td>\n",
       "      <td>female</td>\n",
       "      <td>NaN</td>\n",
       "      <td>0</td>\n",
       "      <td>2</td>\n",
       "      <td>2678</td>\n",
       "      <td>15.2458</td>\n",
       "      <td>C</td>\n",
       "    </tr>\n",
       "    <tr>\n",
       "      <th>625</th>\n",
       "      <td>141</td>\n",
       "      <td>0</td>\n",
       "      <td>3</td>\n",
       "      <td>Boulos, Mrs. Joseph (Sultana)</td>\n",
       "      <td>female</td>\n",
       "      <td>NaN</td>\n",
       "      <td>0</td>\n",
       "      <td>2</td>\n",
       "      <td>2678</td>\n",
       "      <td>15.2458</td>\n",
       "      <td>C</td>\n",
       "    </tr>\n",
       "  </tbody>\n",
       "</table>\n",
       "</div>"
      ],
      "text/plain": [
       "     PassengerId  Survived  Passenger_Class                           Name  \\\n",
       "54             7         0                1        McCarthy, Mr. Timothy J   \n",
       "90            74         0                3    Chronopoulos, Mr. Apostolos   \n",
       "146          141         0                3  Boulos, Mrs. Joseph (Sultana)   \n",
       "625          141         0                3  Boulos, Mrs. Joseph (Sultana)   \n",
       "\n",
       "        Sex   Age  Sibling_Spouse_Count  Parents_Children_Count Ticket  \\\n",
       "54     male  54.0                     0                       0  17463   \n",
       "90     male  26.0                     1                       0   2680   \n",
       "146  female   NaN                     0                       2   2678   \n",
       "625  female   NaN                     0                       2   2678   \n",
       "\n",
       "        Fare Embarked  \n",
       "54   51.8625        S  \n",
       "90   14.4542        C  \n",
       "146  15.2458        C  \n",
       "625  15.2458        C  "
      ]
     },
     "execution_count": 67,
     "metadata": {},
     "output_type": "execute_result"
    }
   ],
   "source": [
    "titanic_df[titanic_df.duplicated()]"
   ]
  },
  {
   "cell_type": "markdown",
   "metadata": {},
   "source": [
    "8. There are some duplicates here. Let's use pandas magic and clean them. We can check if we have any duplicates afterwards:"
   ]
  },
  {
   "cell_type": "code",
   "execution_count": 68,
   "metadata": {},
   "outputs": [
    {
     "data": {
      "text/plain": [
       "0"
      ]
     },
     "execution_count": 68,
     "metadata": {},
     "output_type": "execute_result"
    }
   ],
   "source": [
    "titanic_df.drop_duplicates(inplace=True)\n",
    "\n",
    "# this sums over all instances of rows as to whether they are duplicates of another row or not.\n",
    "titanic_df.duplicated().sum() # gets number of duplicates left after drop duplicate operation"
   ]
  },
  {
   "cell_type": "markdown",
   "metadata": {},
   "source": [
    "We have taken care of any duplicates in the dataframe. Now let's turn to statistical imputation tasks."
   ]
  },
  {
   "cell_type": "markdown",
   "metadata": {},
   "source": [
    "9. Let's take a look at the Age column. Compute the number of NaNs in Age."
   ]
  },
  {
   "cell_type": "code",
   "execution_count": 69,
   "metadata": {},
   "outputs": [
    {
     "data": {
      "text/plain": [
       "177"
      ]
     },
     "execution_count": 69,
     "metadata": {},
     "output_type": "execute_result"
    }
   ],
   "source": [
    "titanic_df['Age'].isna().sum()"
   ]
  },
  {
   "cell_type": "markdown",
   "metadata": {},
   "source": [
    "8. While the column has a significant number of nulls, there are enough non-null values that it might be worth trying to impute. First, compute the following summary statistics on `Age`:\n",
    "- median\n",
    "- mean\n",
    "- standard deviation"
   ]
  },
  {
   "cell_type": "code",
   "execution_count": 70,
   "metadata": {},
   "outputs": [
    {
     "name": "stdout",
     "output_type": "stream",
     "text": [
      "28.0\n",
      "29.69911764705882\n",
      "14.526497332334044\n"
     ]
    }
   ],
   "source": [
    "print(titanic_df['Age'].median())\n",
    "print(titanic_df['Age'].mean())\n",
    "print(titanic_df['Age'].std(ddof=1))"
   ]
  },
  {
   "cell_type": "markdown",
   "metadata": {},
   "source": [
    "10. The mean has been pulled a bit up from the median. Let's see why and the ascertain whether imputing with the mean or the median or possibly some other value might be the best strategy. To do this,  we are going to use matplotlib to get a histogram of the Age. Let's also plot the median and mean as dashed vertical lines colored red and green. "
   ]
  },
  {
   "cell_type": "code",
   "execution_count": 71,
   "metadata": {},
   "outputs": [
    {
     "data": {
      "image/png": "[encoded data removed]",
      "text/plain": [
       "<Figure size 640x480 with 1 Axes>"
      ]
     },
     "metadata": {},
     "output_type": "display_data"
    }
   ],
   "source": [
    "fig, ax = plt.subplots()\n",
    "ax.hist(x = titanic_df['Age'], histtype='step', bins = 20)\n",
    "ax.set_xlabel('Age')\n",
    "ax.set_ylabel('Count')\n",
    "ax.set_title('Distribution of Ages')\n",
    "ax.axvline(titanic_df['Age'].median(), c = 'r', linestyle = '--', label = 'Median')\n",
    "ax.axvline(titanic_df['Age'].mean(), c = 'g', linestyle = '--', label = 'Mean')\n",
    "ax.legend()\n",
    "plt.show()"
   ]
  },
  {
   "cell_type": "markdown",
   "metadata": {},
   "source": [
    "11. The distribution clearly has a range of age values (~20-40) that dominate the distribution. It is a decent bet that if we impute with a good value of central tendency, our imputed value might not be too far off from the true, unknown value. The median looks like a better measure of central tendency than the mean. This is due to the skew at higher ages (> 40). Let's impute with the median:"
   ]
  },
  {
   "cell_type": "code",
   "execution_count": 72,
   "metadata": {},
   "outputs": [],
   "source": [
    "titanic_df['Age'] = titanic_df['Age'].fillna(titanic_df['Age'].median())"
   ]
  },
  {
   "cell_type": "markdown",
   "metadata": {},
   "source": [
    "12. Calculate the new mean and standard deviation. Compare the old mean and standard deviation above with the new mean and standard deviation. What happened?"
   ]
  },
  {
   "cell_type": "code",
   "execution_count": 73,
   "metadata": {},
   "outputs": [
    {
     "name": "stdout",
     "output_type": "stream",
     "text": [
      "29.36158249158249\n",
      "13.019696550973194\n"
     ]
    }
   ],
   "source": [
    "print(titanic_df['Age'].mean())\n",
    "print(titanic_df['Age'].std(ddof = 1))"
   ]
  },
  {
   "cell_type": "markdown",
   "metadata": {},
   "source": [
    "We impute with all 179 null values with the median. This had the effect of pulling the mean down and lowering the standard deviation -- as the median is lower than the mean and the imputed nulls all have the same value. **Be aware that simple imputation alters summary statistics.**"
   ]
  },
  {
   "cell_type": "markdown",
   "metadata": {},
   "source": [
    "13. Print the unique categories and value counts for `Embarked`:"
   ]
  },
  {
   "cell_type": "code",
   "execution_count": 76,
   "metadata": {},
   "outputs": [
    {
     "name": "stdout",
     "output_type": "stream",
     "text": [
      "['S' 'C' 'Q' nan]\n",
      "Embarked\n",
      "S    644\n",
      "C    168\n",
      "Q     77\n",
      "Name: count, dtype: int64\n"
     ]
    }
   ],
   "source": [
    "print(titanic_df['Embarked'].unique())\n",
    "print(titanic_df['Embarked'].value_counts())"
   ]
  },
  {
   "cell_type": "markdown",
   "metadata": {},
   "source": [
    "This distribution is completely dominated by the category `S` -- i.e. those who embarked from Southampton. There are only 2 nulls in this column. We could drop the corresponding rows and not lose too much data. But given the clear mode in `Embarked` it might be a good bet that these individuals came from Southampton. Imputation is nice becuse we retain all the data contained in the other columns. Let's code out both strategies:"
   ]
  },
  {
   "cell_type": "markdown",
   "metadata": {},
   "source": [
    "14. Return a new dataframe with all rows with nulls in `Embarked`. Save it to the variable `mod_df`. **Do not modify the original dataframe in-place.** Then inspect the new dataframe with the .info() method"
   ]
  },
  {
   "cell_type": "code",
   "execution_count": 77,
   "metadata": {},
   "outputs": [
    {
     "name": "stdout",
     "output_type": "stream",
     "text": [
      "<class 'pandas.core.frame.DataFrame'>\n",
      "Index: 889 entries, 0 to 894\n",
      "Data columns (total 11 columns):\n",
      " #   Column                  Non-Null Count  Dtype  \n",
      "---  ------                  --------------  -----  \n",
      " 0   PassengerId             889 non-null    int64  \n",
      " 1   Survived                889 non-null    int64  \n",
      " 2   Passenger_Class         889 non-null    int64  \n",
      " 3   Name                    889 non-null    object \n",
      " 4   Sex                     889 non-null    object \n",
      " 5   Age                     889 non-null    float64\n",
      " 6   Sibling_Spouse_Count    889 non-null    int64  \n",
      " 7   Parents_Children_Count  889 non-null    int64  \n",
      " 8   Ticket                  889 non-null    object \n",
      " 9   Fare                    889 non-null    float64\n",
      " 10  Embarked                889 non-null    object \n",
      "dtypes: float64(2), int64(5), object(4)\n",
      "memory usage: 83.3+ KB\n"
     ]
    }
   ],
   "source": [
    "mod_df = titanic_df.dropna(subset=['Embarked'])\n",
    "mod_df.info()"
   ]
  },
  {
   "cell_type": "markdown",
   "metadata": {},
   "source": [
    "There are no nulls left in the DataFrame. "
   ]
  },
  {
   "cell_type": "markdown",
   "metadata": {},
   "source": [
    "15. Now let's try and impute with the mode in the original dataframe. FirstuUse the mode function on the `Embarked` column in `titanic_df`."
   ]
  },
  {
   "cell_type": "code",
   "execution_count": 89,
   "metadata": {},
   "outputs": [
    {
     "data": {
      "text/plain": [
       "0    S\n",
       "Name: Embarked, dtype: object"
      ]
     },
     "execution_count": 89,
     "metadata": {},
     "output_type": "execute_result"
    }
   ],
   "source": [
    "titanic_df['Embarked'].mode()"
   ]
  },
  {
   "cell_type": "markdown",
   "metadata": {},
   "source": [
    "Notice this is  Series -- there can be more than one mode. Let's extract the first value in this series and save it to a variable `embarked_mode`."
   ]
  },
  {
   "cell_type": "code",
   "execution_count": 90,
   "metadata": {},
   "outputs": [
    {
     "data": {
      "text/plain": [
       "'S'"
      ]
     },
     "execution_count": 90,
     "metadata": {},
     "output_type": "execute_result"
    }
   ],
   "source": [
    "embarked_mode = titanic_df['Embarked'].mode().iloc[0]\n",
    "embarked_mode\n"
   ]
  },
  {
   "cell_type": "markdown",
   "metadata": {},
   "source": [
    "16. Now we impute with the `embarked_mode` in the original dataframe `titanic_df` and inspect the dataframe:"
   ]
  },
  {
   "cell_type": "code",
   "execution_count": 92,
   "metadata": {},
   "outputs": [
    {
     "name": "stdout",
     "output_type": "stream",
     "text": [
      "<class 'pandas.core.frame.DataFrame'>\n",
      "Index: 891 entries, 0 to 894\n",
      "Data columns (total 11 columns):\n",
      " #   Column                  Non-Null Count  Dtype  \n",
      "---  ------                  --------------  -----  \n",
      " 0   PassengerId             891 non-null    int64  \n",
      " 1   Survived                891 non-null    int64  \n",
      " 2   Passenger_Class         891 non-null    int64  \n",
      " 3   Name                    891 non-null    object \n",
      " 4   Sex                     891 non-null    object \n",
      " 5   Age                     891 non-null    float64\n",
      " 6   Sibling_Spouse_Count    891 non-null    int64  \n",
      " 7   Parents_Children_Count  891 non-null    int64  \n",
      " 8   Ticket                  891 non-null    object \n",
      " 9   Fare                    891 non-null    float64\n",
      " 10  Embarked                891 non-null    object \n",
      "dtypes: float64(2), int64(5), object(4)\n",
      "memory usage: 83.5+ KB\n"
     ]
    }
   ],
   "source": [
    "titanic_df['Embarked'] = titanic_df['Embarked'].fillna(embarked_mode)\n",
    "titanic_df.info()"
   ]
  },
  {
   "cell_type": "markdown",
   "metadata": {},
   "source": [
    "17. We now have no nulls and have retained the two rows with nulls in `Embarked`. Our data is now ready for further exploratory data analysis. Let's save the cleaned data to csv data. Call the file `cleaned_titanic.csv`"
   ]
  },
  {
   "cell_type": "code",
   "execution_count": 94,
   "metadata": {},
   "outputs": [],
   "source": [
    "titanic_df.to_csv('clean_titanic.csv')"
   ]
  }
 ],
 "metadata": {
  "kernelspec": {
   "display_name": "learn-env",
   "language": "python",
   "name": "python3"
  },
  "language_info": {
   "codemirror_mode": {
    "name": "ipython",
    "version": 3
   },
   "file_extension": ".py",
   "mimetype": "text/x-python",
   "name": "python",
   "nbconvert_exporter": "python",
   "pygments_lexer": "ipython3",
   "version": "3.12.3"
  }
 },
 "nbformat": 4,
 "nbformat_minor": 2
}
