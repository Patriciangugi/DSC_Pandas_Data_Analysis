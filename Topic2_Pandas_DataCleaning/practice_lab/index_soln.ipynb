{
 "cells": [
  {
   "cell_type": "markdown",
   "metadata": {
    "heading_collapsed": true
   },
   "source": [
    "# Practice [Data Cleaning in Pandas]"
   ]
  },
  {
   "cell_type": "markdown",
   "metadata": {},
   "source": [
    "## Overview:"
   ]
  },
  {
   "cell_type": "markdown",
   "metadata": {},
   "source": [
    "#### Outcomes at the Austin Animal Center\n",
    "\n",
    "Austin Animal Center is the municipal shelter for Austin, TX. You are a consulting data scientist helping the shelter understand the factors contributing to various final outcomes of shelitered animals (adoption, euthanasia, etc.). They want a tool that will use this information to automatically flag animals that are at risk of ending up being euthanised. You have been provided with data from the following source:\n",
    "\n",
    "Data source: https://data.austintexas.gov/Health-and-Community-Services/Austin-Animal-Center-Outcomes/9t4d-g238\n",
    "\n",
    "\n",
    "Before conducting EDA and model building, you will need to clean your data. This will require you to:\n",
    "\n",
    "\n",
    "- Handle missing data, and recognize when different strategies for handling missing data would be appropriate\n",
    "- Deal with duplicate data\n",
    "- Use string vectorized methods to transform object-type columns\n",
    "- Use DataFrame vectorized methods to apply custom transformations to data"
   ]
  },
  {
   "cell_type": "code",
   "execution_count": 2,
   "metadata": {},
   "outputs": [],
   "source": [
    "# Imports\n",
    "\n",
    "import pandas as pd\n",
    "import numpy as np\n",
    "\n",
    "import matplotlib.pyplot as plt\n",
    "import seaborn as sns"
   ]
  },
  {
   "cell_type": "markdown",
   "metadata": {},
   "source": [
    "1. Load the animal center outcomes data as `df`. "
   ]
  },
  {
   "cell_type": "code",
   "execution_count": 3,
   "metadata": {},
   "outputs": [],
   "source": [
    "# youe code here\n",
    "df = pd.read_csv('data/Austin_Animal_Center_Outcomes_022822.csv')"
   ]
  },
  {
   "cell_type": "markdown",
   "metadata": {},
   "source": [
    "2. Inspect the head."
   ]
  },
  {
   "cell_type": "code",
   "execution_count": 4,
   "metadata": {},
   "outputs": [
    {
     "data": {
      "text/html": [
       "<div>\n",
       "<style scoped>\n",
       "    .dataframe tbody tr th:only-of-type {\n",
       "        vertical-align: middle;\n",
       "    }\n",
       "\n",
       "    .dataframe tbody tr th {\n",
       "        vertical-align: top;\n",
       "    }\n",
       "\n",
       "    .dataframe thead th {\n",
       "        text-align: right;\n",
       "    }\n",
       "</style>\n",
       "<table border=\"1\" class=\"dataframe\">\n",
       "  <thead>\n",
       "    <tr style=\"text-align: right;\">\n",
       "      <th></th>\n",
       "      <th>Animal ID</th>\n",
       "      <th>Name</th>\n",
       "      <th>DateTime</th>\n",
       "      <th>MonthYear</th>\n",
       "      <th>Date of Birth</th>\n",
       "      <th>Outcome Type</th>\n",
       "      <th>Outcome Subtype</th>\n",
       "      <th>Animal Type</th>\n",
       "      <th>Sex upon Outcome</th>\n",
       "      <th>Age upon Outcome</th>\n",
       "      <th>Breed</th>\n",
       "      <th>Color</th>\n",
       "    </tr>\n",
       "  </thead>\n",
       "  <tbody>\n",
       "    <tr>\n",
       "      <th>0</th>\n",
       "      <td>A794011</td>\n",
       "      <td>Chunk</td>\n",
       "      <td>05/08/2019 06:20:00 PM</td>\n",
       "      <td>May 2019</td>\n",
       "      <td>05/02/2017</td>\n",
       "      <td>Rto-Adopt</td>\n",
       "      <td>NaN</td>\n",
       "      <td>Cat</td>\n",
       "      <td>Neutered Male</td>\n",
       "      <td>2 years</td>\n",
       "      <td>Domestic Shorthair Mix</td>\n",
       "      <td>Brown Tabby/White</td>\n",
       "    </tr>\n",
       "    <tr>\n",
       "      <th>1</th>\n",
       "      <td>A776359</td>\n",
       "      <td>Gizmo</td>\n",
       "      <td>07/18/2018 04:02:00 PM</td>\n",
       "      <td>Jul 2018</td>\n",
       "      <td>07/12/2017</td>\n",
       "      <td>Adoption</td>\n",
       "      <td>NaN</td>\n",
       "      <td>Dog</td>\n",
       "      <td>Neutered Male</td>\n",
       "      <td>1 year</td>\n",
       "      <td>Chihuahua Shorthair Mix</td>\n",
       "      <td>White/Brown</td>\n",
       "    </tr>\n",
       "    <tr>\n",
       "      <th>2</th>\n",
       "      <td>A821648</td>\n",
       "      <td>NaN</td>\n",
       "      <td>08/16/2020 11:38:00 AM</td>\n",
       "      <td>Aug 2020</td>\n",
       "      <td>08/16/2019</td>\n",
       "      <td>Euthanasia</td>\n",
       "      <td>NaN</td>\n",
       "      <td>Other</td>\n",
       "      <td>Unknown</td>\n",
       "      <td>1 year</td>\n",
       "      <td>Raccoon</td>\n",
       "      <td>Gray</td>\n",
       "    </tr>\n",
       "    <tr>\n",
       "      <th>3</th>\n",
       "      <td>A720371</td>\n",
       "      <td>Moose</td>\n",
       "      <td>02/13/2016 05:59:00 PM</td>\n",
       "      <td>Feb 2016</td>\n",
       "      <td>10/08/2015</td>\n",
       "      <td>Adoption</td>\n",
       "      <td>NaN</td>\n",
       "      <td>Dog</td>\n",
       "      <td>Neutered Male</td>\n",
       "      <td>4 months</td>\n",
       "      <td>Anatol Shepherd/Labrador Retriever</td>\n",
       "      <td>Buff</td>\n",
       "    </tr>\n",
       "    <tr>\n",
       "      <th>4</th>\n",
       "      <td>A674754</td>\n",
       "      <td>NaN</td>\n",
       "      <td>03/18/2014 11:47:00 AM</td>\n",
       "      <td>Mar 2014</td>\n",
       "      <td>03/12/2014</td>\n",
       "      <td>Transfer</td>\n",
       "      <td>Partner</td>\n",
       "      <td>Cat</td>\n",
       "      <td>Intact Male</td>\n",
       "      <td>6 days</td>\n",
       "      <td>Domestic Shorthair Mix</td>\n",
       "      <td>Orange Tabby</td>\n",
       "    </tr>\n",
       "  </tbody>\n",
       "</table>\n",
       "</div>"
      ],
      "text/plain": [
       "  Animal ID   Name                DateTime MonthYear Date of Birth  \\\n",
       "0   A794011  Chunk  05/08/2019 06:20:00 PM  May 2019    05/02/2017   \n",
       "1   A776359  Gizmo  07/18/2018 04:02:00 PM  Jul 2018    07/12/2017   \n",
       "2   A821648    NaN  08/16/2020 11:38:00 AM  Aug 2020    08/16/2019   \n",
       "3   A720371  Moose  02/13/2016 05:59:00 PM  Feb 2016    10/08/2015   \n",
       "4   A674754    NaN  03/18/2014 11:47:00 AM  Mar 2014    03/12/2014   \n",
       "\n",
       "  Outcome Type Outcome Subtype Animal Type Sex upon Outcome Age upon Outcome  \\\n",
       "0    Rto-Adopt             NaN         Cat    Neutered Male          2 years   \n",
       "1     Adoption             NaN         Dog    Neutered Male           1 year   \n",
       "2   Euthanasia             NaN       Other          Unknown           1 year   \n",
       "3     Adoption             NaN         Dog    Neutered Male         4 months   \n",
       "4     Transfer         Partner         Cat      Intact Male           6 days   \n",
       "\n",
       "                                Breed              Color  \n",
       "0              Domestic Shorthair Mix  Brown Tabby/White  \n",
       "1             Chihuahua Shorthair Mix        White/Brown  \n",
       "2                             Raccoon               Gray  \n",
       "3  Anatol Shepherd/Labrador Retriever               Buff  \n",
       "4              Domestic Shorthair Mix       Orange Tabby  "
      ]
     },
     "execution_count": 4,
     "metadata": {},
     "output_type": "execute_result"
    }
   ],
   "source": [
    "df.head()"
   ]
  },
  {
   "cell_type": "markdown",
   "metadata": {},
   "source": [
    "3. Get information on columns: null count and data types in DataFrame"
   ]
  },
  {
   "cell_type": "code",
   "execution_count": 5,
   "metadata": {},
   "outputs": [
    {
     "name": "stdout",
     "output_type": "stream",
     "text": [
      "<class 'pandas.core.frame.DataFrame'>\n",
      "RangeIndex: 137100 entries, 0 to 137099\n",
      "Data columns (total 12 columns):\n",
      " #   Column            Non-Null Count   Dtype \n",
      "---  ------            --------------   ----- \n",
      " 0   Animal ID         137100 non-null  object\n",
      " 1   Name              96098 non-null   object\n",
      " 2   DateTime          137100 non-null  object\n",
      " 3   MonthYear         137100 non-null  object\n",
      " 4   Date of Birth     137100 non-null  object\n",
      " 5   Outcome Type      137076 non-null  object\n",
      " 6   Outcome Subtype   62656 non-null   object\n",
      " 7   Animal Type       137100 non-null  object\n",
      " 8   Sex upon Outcome  137098 non-null  object\n",
      " 9   Age upon Outcome  137095 non-null  object\n",
      " 10  Breed             137100 non-null  object\n",
      " 11  Color             137100 non-null  object\n",
      "dtypes: object(12)\n",
      "memory usage: 12.6+ MB\n"
     ]
    }
   ],
   "source": [
    "# Check it out\n",
    "df.info()"
   ]
  },
  {
   "cell_type": "markdown",
   "metadata": {},
   "source": [
    "4. `DateTime` and `Date of Birth` are dtype `object`. Convert them to an appropriate data type."
   ]
  },
  {
   "cell_type": "code",
   "execution_count": 6,
   "metadata": {},
   "outputs": [
    {
     "name": "stderr",
     "output_type": "stream",
     "text": [
      "C:\\Users\\Praveen\\AppData\\Local\\Temp\\ipykernel_23228\\2997526049.py:2: UserWarning: Could not infer format, so each element will be parsed individually, falling back to `dateutil`. To ensure parsing is consistent and as-expected, please specify a format.\n",
      "  df['DateTime']=pd.to_datetime(df['DateTime']) # warning may be thrown -- it's fine.\n"
     ]
    },
    {
     "name": "stdout",
     "output_type": "stream",
     "text": [
      "<class 'pandas.core.frame.DataFrame'>\n",
      "RangeIndex: 137100 entries, 0 to 137099\n",
      "Data columns (total 12 columns):\n",
      " #   Column            Non-Null Count   Dtype         \n",
      "---  ------            --------------   -----         \n",
      " 0   Animal ID         137100 non-null  object        \n",
      " 1   Name              96098 non-null   object        \n",
      " 2   DateTime          137100 non-null  datetime64[ns]\n",
      " 3   MonthYear         137100 non-null  object        \n",
      " 4   Date of Birth     137100 non-null  datetime64[ns]\n",
      " 5   Outcome Type      137076 non-null  object        \n",
      " 6   Outcome Subtype   62656 non-null   object        \n",
      " 7   Animal Type       137100 non-null  object        \n",
      " 8   Sex upon Outcome  137098 non-null  object        \n",
      " 9   Age upon Outcome  137095 non-null  object        \n",
      " 10  Breed             137100 non-null  object        \n",
      " 11  Color             137100 non-null  object        \n",
      "dtypes: datetime64[ns](2), object(10)\n",
      "memory usage: 12.6+ MB\n"
     ]
    }
   ],
   "source": [
    "# your code here\n",
    "df['DateTime']=pd.to_datetime(df['DateTime']) # warning may be thrown -- it's fine.\n",
    "df['Date of Birth'] = pd.to_datetime(df['Date of Birth'])\n",
    "\n",
    "# inspect after changing data types\n",
    "df.info()"
   ]
  },
  {
   "cell_type": "markdown",
   "metadata": {},
   "source": [
    "5. The `Outcome Subtype` has a lot of nulls (more than half). It's not reasonable to impute these many missing values with a simple imputation strategy. Drop this feature."
   ]
  },
  {
   "cell_type": "code",
   "execution_count": 7,
   "metadata": {},
   "outputs": [
    {
     "name": "stdout",
     "output_type": "stream",
     "text": [
      "Index(['Animal ID', 'Name', 'DateTime', 'MonthYear', 'Date of Birth',\n",
      "       'Outcome Type', 'Animal Type', 'Sex upon Outcome', 'Age upon Outcome',\n",
      "       'Breed', 'Color'],\n",
      "      dtype='object')\n"
     ]
    }
   ],
   "source": [
    "# your code here\n",
    "df = df.drop(columns=['Outcome Subtype'])\n",
    "\n",
    "# outcome subtype should no longer be in the list of columns\n",
    "print(df.columns)"
   ]
  },
  {
   "cell_type": "markdown",
   "metadata": {},
   "source": [
    "6. Return a dataframe with all duplicated rows in the dataset."
   ]
  },
  {
   "cell_type": "code",
   "execution_count": 8,
   "metadata": {},
   "outputs": [
    {
     "data": {
      "text/html": [
       "<div>\n",
       "<style scoped>\n",
       "    .dataframe tbody tr th:only-of-type {\n",
       "        vertical-align: middle;\n",
       "    }\n",
       "\n",
       "    .dataframe tbody tr th {\n",
       "        vertical-align: top;\n",
       "    }\n",
       "\n",
       "    .dataframe thead th {\n",
       "        text-align: right;\n",
       "    }\n",
       "</style>\n",
       "<table border=\"1\" class=\"dataframe\">\n",
       "  <thead>\n",
       "    <tr style=\"text-align: right;\">\n",
       "      <th></th>\n",
       "      <th>Animal ID</th>\n",
       "      <th>Name</th>\n",
       "      <th>DateTime</th>\n",
       "      <th>MonthYear</th>\n",
       "      <th>Date of Birth</th>\n",
       "      <th>Outcome Type</th>\n",
       "      <th>Animal Type</th>\n",
       "      <th>Sex upon Outcome</th>\n",
       "      <th>Age upon Outcome</th>\n",
       "      <th>Breed</th>\n",
       "      <th>Color</th>\n",
       "    </tr>\n",
       "  </thead>\n",
       "  <tbody>\n",
       "    <tr>\n",
       "      <th>29</th>\n",
       "      <td>A698049</td>\n",
       "      <td>Luigi</td>\n",
       "      <td>2015-03-16 14:50:00</td>\n",
       "      <td>Mar 2015</td>\n",
       "      <td>2014-06-05</td>\n",
       "      <td>Transfer</td>\n",
       "      <td>Cat</td>\n",
       "      <td>Spayed Female</td>\n",
       "      <td>9 months</td>\n",
       "      <td>Domestic Medium Hair Mix</td>\n",
       "      <td>Black/White</td>\n",
       "    </tr>\n",
       "    <tr>\n",
       "      <th>237</th>\n",
       "      <td>A698049</td>\n",
       "      <td>Luigi</td>\n",
       "      <td>2015-03-16 14:50:00</td>\n",
       "      <td>Mar 2015</td>\n",
       "      <td>2014-06-05</td>\n",
       "      <td>Transfer</td>\n",
       "      <td>Cat</td>\n",
       "      <td>Spayed Female</td>\n",
       "      <td>9 months</td>\n",
       "      <td>Domestic Medium Hair Mix</td>\n",
       "      <td>Black/White</td>\n",
       "    </tr>\n",
       "    <tr>\n",
       "      <th>395</th>\n",
       "      <td>A698049</td>\n",
       "      <td>Luigi</td>\n",
       "      <td>2015-03-16 14:50:00</td>\n",
       "      <td>Mar 2015</td>\n",
       "      <td>2014-06-05</td>\n",
       "      <td>Transfer</td>\n",
       "      <td>Cat</td>\n",
       "      <td>Spayed Female</td>\n",
       "      <td>9 months</td>\n",
       "      <td>Domestic Medium Hair Mix</td>\n",
       "      <td>Black/White</td>\n",
       "    </tr>\n",
       "    <tr>\n",
       "      <th>9087</th>\n",
       "      <td>A815987</td>\n",
       "      <td>Princess</td>\n",
       "      <td>2020-04-13 16:56:00</td>\n",
       "      <td>Apr 2020</td>\n",
       "      <td>2019-04-02</td>\n",
       "      <td>Return to Owner</td>\n",
       "      <td>Dog</td>\n",
       "      <td>Intact Female</td>\n",
       "      <td>1 year</td>\n",
       "      <td>Cairn Terrier</td>\n",
       "      <td>White/Brown</td>\n",
       "    </tr>\n",
       "    <tr>\n",
       "      <th>16881</th>\n",
       "      <td>A761936</td>\n",
       "      <td>NaN</td>\n",
       "      <td>2017-11-16 12:54:00</td>\n",
       "      <td>Nov 2017</td>\n",
       "      <td>2017-01-12</td>\n",
       "      <td>Transfer</td>\n",
       "      <td>Dog</td>\n",
       "      <td>Intact Male</td>\n",
       "      <td>10 months</td>\n",
       "      <td>Scottish Terrier Mix</td>\n",
       "      <td>Brown Brindle</td>\n",
       "    </tr>\n",
       "    <tr>\n",
       "      <th>24054</th>\n",
       "      <td>A783234</td>\n",
       "      <td>Princess</td>\n",
       "      <td>2019-01-13 16:39:00</td>\n",
       "      <td>Jan 2019</td>\n",
       "      <td>2016-10-27</td>\n",
       "      <td>Rto-Adopt</td>\n",
       "      <td>Dog</td>\n",
       "      <td>Spayed Female</td>\n",
       "      <td>2 years</td>\n",
       "      <td>Collie Smooth/Pointer</td>\n",
       "      <td>Brown</td>\n",
       "    </tr>\n",
       "    <tr>\n",
       "      <th>50932</th>\n",
       "      <td>A682781</td>\n",
       "      <td>NaN</td>\n",
       "      <td>2014-07-03 09:00:00</td>\n",
       "      <td>Jul 2014</td>\n",
       "      <td>2013-01-02</td>\n",
       "      <td>Transfer</td>\n",
       "      <td>Cat</td>\n",
       "      <td>Neutered Male</td>\n",
       "      <td>1 year</td>\n",
       "      <td>Domestic Shorthair Mix</td>\n",
       "      <td>White/Black</td>\n",
       "    </tr>\n",
       "    <tr>\n",
       "      <th>56950</th>\n",
       "      <td>A683782</td>\n",
       "      <td>NaN</td>\n",
       "      <td>2014-07-16 09:00:00</td>\n",
       "      <td>Jul 2014</td>\n",
       "      <td>2014-02-15</td>\n",
       "      <td>Transfer</td>\n",
       "      <td>Cat</td>\n",
       "      <td>Neutered Male</td>\n",
       "      <td>4 months</td>\n",
       "      <td>Domestic Shorthair Mix</td>\n",
       "      <td>Brown Tabby</td>\n",
       "    </tr>\n",
       "    <tr>\n",
       "      <th>65106</th>\n",
       "      <td>A686827</td>\n",
       "      <td>NaN</td>\n",
       "      <td>2014-08-28 09:00:00</td>\n",
       "      <td>Aug 2014</td>\n",
       "      <td>2012-02-27</td>\n",
       "      <td>Transfer</td>\n",
       "      <td>Cat</td>\n",
       "      <td>Spayed Female</td>\n",
       "      <td>2 years</td>\n",
       "      <td>Domestic Shorthair Mix</td>\n",
       "      <td>Calico</td>\n",
       "    </tr>\n",
       "    <tr>\n",
       "      <th>75009</th>\n",
       "      <td>A755687</td>\n",
       "      <td>NaN</td>\n",
       "      <td>2017-08-07 13:50:00</td>\n",
       "      <td>Aug 2017</td>\n",
       "      <td>2014-08-07</td>\n",
       "      <td>Disposal</td>\n",
       "      <td>Other</td>\n",
       "      <td>Unknown</td>\n",
       "      <td>3 years</td>\n",
       "      <td>Bat Mix</td>\n",
       "      <td>Brown</td>\n",
       "    </tr>\n",
       "    <tr>\n",
       "      <th>76421</th>\n",
       "      <td>A660948</td>\n",
       "      <td>*Roy</td>\n",
       "      <td>2013-11-03 18:16:00</td>\n",
       "      <td>Nov 2013</td>\n",
       "      <td>2013-07-08</td>\n",
       "      <td>Adoption</td>\n",
       "      <td>Cat</td>\n",
       "      <td>Neutered Male</td>\n",
       "      <td>3 months</td>\n",
       "      <td>Domestic Shorthair Mix</td>\n",
       "      <td>Brown Tabby/White</td>\n",
       "    </tr>\n",
       "    <tr>\n",
       "      <th>85290</th>\n",
       "      <td>A748204</td>\n",
       "      <td>Bob</td>\n",
       "      <td>2017-05-04 18:04:00</td>\n",
       "      <td>May 2017</td>\n",
       "      <td>2017-02-04</td>\n",
       "      <td>Adoption</td>\n",
       "      <td>Cat</td>\n",
       "      <td>Neutered Male</td>\n",
       "      <td>2 months</td>\n",
       "      <td>Domestic Shorthair Mix</td>\n",
       "      <td>White/Blue</td>\n",
       "    </tr>\n",
       "    <tr>\n",
       "      <th>91386</th>\n",
       "      <td>A755088</td>\n",
       "      <td>Machete</td>\n",
       "      <td>2017-08-19 00:00:00</td>\n",
       "      <td>Aug 2017</td>\n",
       "      <td>2016-09-29</td>\n",
       "      <td>Adoption</td>\n",
       "      <td>Dog</td>\n",
       "      <td>Spayed Female</td>\n",
       "      <td>10 months</td>\n",
       "      <td>Australian Kelpie Mix</td>\n",
       "      <td>Black/White</td>\n",
       "    </tr>\n",
       "    <tr>\n",
       "      <th>92570</th>\n",
       "      <td>A811566</td>\n",
       "      <td>Bubby</td>\n",
       "      <td>2020-01-09 17:22:00</td>\n",
       "      <td>Jan 2020</td>\n",
       "      <td>2018-07-09</td>\n",
       "      <td>Return to Owner</td>\n",
       "      <td>Cat</td>\n",
       "      <td>Neutered Male</td>\n",
       "      <td>1 year</td>\n",
       "      <td>Domestic Shorthair</td>\n",
       "      <td>White</td>\n",
       "    </tr>\n",
       "    <tr>\n",
       "      <th>103917</th>\n",
       "      <td>A696688</td>\n",
       "      <td>Mari</td>\n",
       "      <td>2015-03-26 19:05:00</td>\n",
       "      <td>Mar 2015</td>\n",
       "      <td>2012-02-10</td>\n",
       "      <td>Adoption</td>\n",
       "      <td>Cat</td>\n",
       "      <td>Spayed Female</td>\n",
       "      <td>3 years</td>\n",
       "      <td>Domestic Shorthair Mix</td>\n",
       "      <td>Calico/White</td>\n",
       "    </tr>\n",
       "    <tr>\n",
       "      <th>105682</th>\n",
       "      <td>A764464</td>\n",
       "      <td>Pepper</td>\n",
       "      <td>2018-09-18 14:28:00</td>\n",
       "      <td>Sep 2018</td>\n",
       "      <td>2017-10-15</td>\n",
       "      <td>Transfer</td>\n",
       "      <td>Dog</td>\n",
       "      <td>Spayed Female</td>\n",
       "      <td>11 months</td>\n",
       "      <td>Soft Coated Wheaten Terrier Mix</td>\n",
       "      <td>Black/Tricolor</td>\n",
       "    </tr>\n",
       "    <tr>\n",
       "      <th>111474</th>\n",
       "      <td>A797007</td>\n",
       "      <td>Ummi</td>\n",
       "      <td>2019-06-09 16:33:00</td>\n",
       "      <td>Jun 2019</td>\n",
       "      <td>2009-12-08</td>\n",
       "      <td>Died</td>\n",
       "      <td>Dog</td>\n",
       "      <td>Neutered Male</td>\n",
       "      <td>9 years</td>\n",
       "      <td>Miniature Poodle</td>\n",
       "      <td>White</td>\n",
       "    </tr>\n",
       "    <tr>\n",
       "      <th>127033</th>\n",
       "      <td>A773428</td>\n",
       "      <td>*Atreyu</td>\n",
       "      <td>2018-06-07 09:31:00</td>\n",
       "      <td>Jun 2018</td>\n",
       "      <td>2018-05-04</td>\n",
       "      <td>Died</td>\n",
       "      <td>Cat</td>\n",
       "      <td>Intact Male</td>\n",
       "      <td>4 weeks</td>\n",
       "      <td>Domestic Shorthair Mix</td>\n",
       "      <td>Orange Tabby</td>\n",
       "    </tr>\n",
       "    <tr>\n",
       "      <th>130074</th>\n",
       "      <td>A695798</td>\n",
       "      <td>Jim</td>\n",
       "      <td>2015-01-23 12:34:00</td>\n",
       "      <td>Jan 2015</td>\n",
       "      <td>2014-02-23</td>\n",
       "      <td>Euthanasia</td>\n",
       "      <td>Cat</td>\n",
       "      <td>Neutered Male</td>\n",
       "      <td>10 months</td>\n",
       "      <td>Domestic Shorthair Mix</td>\n",
       "      <td>Orange</td>\n",
       "    </tr>\n",
       "    <tr>\n",
       "      <th>134101</th>\n",
       "      <td>A846569</td>\n",
       "      <td>A846569</td>\n",
       "      <td>2021-12-04 10:34:00</td>\n",
       "      <td>Dec 2021</td>\n",
       "      <td>2021-06-15</td>\n",
       "      <td>Adoption</td>\n",
       "      <td>Dog</td>\n",
       "      <td>Neutered Male</td>\n",
       "      <td>5 months</td>\n",
       "      <td>Australian Cattle Dog Mix</td>\n",
       "      <td>Red Tick</td>\n",
       "    </tr>\n",
       "  </tbody>\n",
       "</table>\n",
       "</div>"
      ],
      "text/plain": [
       "       Animal ID      Name            DateTime MonthYear Date of Birth  \\\n",
       "29       A698049     Luigi 2015-03-16 14:50:00  Mar 2015    2014-06-05   \n",
       "237      A698049     Luigi 2015-03-16 14:50:00  Mar 2015    2014-06-05   \n",
       "395      A698049     Luigi 2015-03-16 14:50:00  Mar 2015    2014-06-05   \n",
       "9087     A815987  Princess 2020-04-13 16:56:00  Apr 2020    2019-04-02   \n",
       "16881    A761936       NaN 2017-11-16 12:54:00  Nov 2017    2017-01-12   \n",
       "24054    A783234  Princess 2019-01-13 16:39:00  Jan 2019    2016-10-27   \n",
       "50932    A682781       NaN 2014-07-03 09:00:00  Jul 2014    2013-01-02   \n",
       "56950    A683782       NaN 2014-07-16 09:00:00  Jul 2014    2014-02-15   \n",
       "65106    A686827       NaN 2014-08-28 09:00:00  Aug 2014    2012-02-27   \n",
       "75009    A755687       NaN 2017-08-07 13:50:00  Aug 2017    2014-08-07   \n",
       "76421    A660948      *Roy 2013-11-03 18:16:00  Nov 2013    2013-07-08   \n",
       "85290    A748204       Bob 2017-05-04 18:04:00  May 2017    2017-02-04   \n",
       "91386    A755088   Machete 2017-08-19 00:00:00  Aug 2017    2016-09-29   \n",
       "92570    A811566     Bubby 2020-01-09 17:22:00  Jan 2020    2018-07-09   \n",
       "103917   A696688      Mari 2015-03-26 19:05:00  Mar 2015    2012-02-10   \n",
       "105682   A764464    Pepper 2018-09-18 14:28:00  Sep 2018    2017-10-15   \n",
       "111474   A797007      Ummi 2019-06-09 16:33:00  Jun 2019    2009-12-08   \n",
       "127033   A773428   *Atreyu 2018-06-07 09:31:00  Jun 2018    2018-05-04   \n",
       "130074   A695798       Jim 2015-01-23 12:34:00  Jan 2015    2014-02-23   \n",
       "134101   A846569   A846569 2021-12-04 10:34:00  Dec 2021    2021-06-15   \n",
       "\n",
       "           Outcome Type Animal Type Sex upon Outcome Age upon Outcome  \\\n",
       "29             Transfer         Cat    Spayed Female         9 months   \n",
       "237            Transfer         Cat    Spayed Female         9 months   \n",
       "395            Transfer         Cat    Spayed Female         9 months   \n",
       "9087    Return to Owner         Dog    Intact Female           1 year   \n",
       "16881          Transfer         Dog      Intact Male        10 months   \n",
       "24054         Rto-Adopt         Dog    Spayed Female          2 years   \n",
       "50932          Transfer         Cat    Neutered Male           1 year   \n",
       "56950          Transfer         Cat    Neutered Male         4 months   \n",
       "65106          Transfer         Cat    Spayed Female          2 years   \n",
       "75009          Disposal       Other          Unknown          3 years   \n",
       "76421          Adoption         Cat    Neutered Male         3 months   \n",
       "85290          Adoption         Cat    Neutered Male         2 months   \n",
       "91386          Adoption         Dog    Spayed Female        10 months   \n",
       "92570   Return to Owner         Cat    Neutered Male           1 year   \n",
       "103917         Adoption         Cat    Spayed Female          3 years   \n",
       "105682         Transfer         Dog    Spayed Female        11 months   \n",
       "111474             Died         Dog    Neutered Male          9 years   \n",
       "127033             Died         Cat      Intact Male          4 weeks   \n",
       "130074       Euthanasia         Cat    Neutered Male        10 months   \n",
       "134101         Adoption         Dog    Neutered Male         5 months   \n",
       "\n",
       "                                  Breed              Color  \n",
       "29             Domestic Medium Hair Mix        Black/White  \n",
       "237            Domestic Medium Hair Mix        Black/White  \n",
       "395            Domestic Medium Hair Mix        Black/White  \n",
       "9087                      Cairn Terrier        White/Brown  \n",
       "16881              Scottish Terrier Mix      Brown Brindle  \n",
       "24054             Collie Smooth/Pointer              Brown  \n",
       "50932            Domestic Shorthair Mix        White/Black  \n",
       "56950            Domestic Shorthair Mix        Brown Tabby  \n",
       "65106            Domestic Shorthair Mix             Calico  \n",
       "75009                           Bat Mix              Brown  \n",
       "76421            Domestic Shorthair Mix  Brown Tabby/White  \n",
       "85290            Domestic Shorthair Mix         White/Blue  \n",
       "91386             Australian Kelpie Mix        Black/White  \n",
       "92570                Domestic Shorthair              White  \n",
       "103917           Domestic Shorthair Mix       Calico/White  \n",
       "105682  Soft Coated Wheaten Terrier Mix     Black/Tricolor  \n",
       "111474                 Miniature Poodle              White  \n",
       "127033           Domestic Shorthair Mix       Orange Tabby  \n",
       "130074           Domestic Shorthair Mix             Orange  \n",
       "134101        Australian Cattle Dog Mix           Red Tick  "
      ]
     },
     "execution_count": 8,
     "metadata": {},
     "output_type": "execute_result"
    }
   ],
   "source": [
    "df[df.duplicated()]"
   ]
  },
  {
   "cell_type": "markdown",
   "metadata": {},
   "source": [
    "7. Remove all duplicates from the dataframe."
   ]
  },
  {
   "cell_type": "code",
   "execution_count": 9,
   "metadata": {},
   "outputs": [],
   "source": [
    "# your code here\n",
    "df = df.drop_duplicates()"
   ]
  },
  {
   "cell_type": "markdown",
   "metadata": {},
   "source": [
    "Age has a few nulls. Notice that the dtype for the column is object and the entries are strings:"
   ]
  },
  {
   "cell_type": "code",
   "execution_count": 10,
   "metadata": {},
   "outputs": [
    {
     "name": "stdout",
     "output_type": "stream",
     "text": [
      "5\n",
      "object\n",
      "0     2 years\n",
      "1      1 year\n",
      "2      1 year\n",
      "3    4 months\n",
      "4      6 days\n",
      "Name: Age upon Outcome, dtype: object\n"
     ]
    }
   ],
   "source": [
    "# run this cell without changes\n",
    "print(df['Age upon Outcome'].isna().sum()) # there are 5 NaNs\n",
    "print(df['Age upon Outcome'].dtype) \n",
    "print(df['Age upon Outcome'].head())"
   ]
  },
  {
   "cell_type": "markdown",
   "metadata": {},
   "source": [
    "The ages are strings with the number and a particular unit of time (days, months, or years). We need to clean this up."
   ]
  },
  {
   "cell_type": "markdown",
   "metadata": {},
   "source": [
    "8. Split the number and unit and put these into two new columns named `Age Number` and `Age Unit` respectively."
   ]
  },
  {
   "cell_type": "code",
   "execution_count": 11,
   "metadata": {},
   "outputs": [
    {
     "name": "stdout",
     "output_type": "stream",
     "text": [
      "Index(['Animal ID', 'Name', 'DateTime', 'MonthYear', 'Date of Birth',\n",
      "       'Outcome Type', 'Animal Type', 'Sex upon Outcome', 'Age upon Outcome',\n",
      "       'Breed', 'Color', 'Age Number', 'Age Unit'],\n",
      "      dtype='object')\n"
     ]
    }
   ],
   "source": [
    "# Split out the age number and age unit - using string methods!\n",
    "df['Age Number'] = df['Age upon Outcome'].str.split(\" \").str[0]\n",
    "df['Age Unit'] = df['Age upon Outcome'].str.split(\" \").str[1]\n",
    "\n",
    "print(df.columns)"
   ]
  },
  {
   "cell_type": "markdown",
   "metadata": {},
   "source": [
    "9. Let's convert our Ages to be in units of days. First convert the `Age Unit` column to its corresponding number in days. We have provide the dictionary for unit conversion:"
   ]
  },
  {
   "cell_type": "code",
   "execution_count": 12,
   "metadata": {},
   "outputs": [
    {
     "name": "stdout",
     "output_type": "stream",
     "text": [
      "0    365.0\n",
      "1    365.0\n",
      "2    365.0\n",
      "3     30.0\n",
      "4      1.0\n",
      "Name: Age Unit, dtype: float64\n"
     ]
    }
   ],
   "source": [
    "# Providing this dictionary to capture age values in # days (not perfect)\n",
    "age_vals = {\n",
    "    'years': 365,\n",
    "    'year': 365,\n",
    "    'months': 30,\n",
    "    'month': 30,\n",
    "    'weeks': 7,\n",
    "    'week': 7,\n",
    "    'days': 1,\n",
    "    'day': 1\n",
    "}\n",
    "\n",
    "# replace None with your code\n",
    "df['Age Unit'] = df['Age Unit'].map(age_vals)\n",
    "\n",
    "print(df['Age Unit'].head())"
   ]
  },
  {
   "cell_type": "markdown",
   "metadata": {},
   "source": [
    "10. Convert the `Age Number` column to 'Int16' datatype. Then express the `Age Upon Outcome` in days using the `Age Number` and converted `Age Unit` columns."
   ]
  },
  {
   "cell_type": "code",
   "execution_count": 29,
   "metadata": {},
   "outputs": [
    {
     "name": "stdout",
     "output_type": "stream",
     "text": [
      "0    730.0\n",
      "1    365.0\n",
      "2    365.0\n",
      "3    120.0\n",
      "4      6.0\n",
      "Name: Age upon Outcome, dtype: Float64\n"
     ]
    }
   ],
   "source": [
    "# convert to integer\n",
    "df['Age Number'] = df['Age Number'].astype('Int16')\n",
    "\n",
    "# recalculate Age Upon Outcome in days\n",
    "df['Age upon Outcome'] = df['Age Number']*df['Age Unit']\n",
    "\n",
    "print(df['Age upon Outcome'].head())"
   ]
  },
  {
   "cell_type": "markdown",
   "metadata": {},
   "source": [
    "11. Plot a histogram of `Age upon Outcome` along with median of the column."
   ]
  },
  {
   "cell_type": "code",
   "execution_count": 14,
   "metadata": {},
   "outputs": [
    {
     "data": {
      "image/png": "[encoded data removed]",
      "text/plain": [
       "<Figure size 640x480 with 1 Axes>"
      ]
     },
     "metadata": {},
     "output_type": "display_data"
    }
   ],
   "source": [
    "fig, ax = plt.subplots()\n",
    "ax.hist(df['Age upon Outcome'],bins = 30)\n",
    "ax.axvline(df['Age upon Outcome'].median(), c = 'r', linestyle = '--')\n",
    "plt.show()"
   ]
  },
  {
   "cell_type": "markdown",
   "metadata": {},
   "source": [
    "12. The median looks to be a measure of central tendency. Impute `Age upon Outcome' with the median."
   ]
  },
  {
   "cell_type": "code",
   "execution_count": 15,
   "metadata": {},
   "outputs": [
    {
     "data": {
      "text/plain": [
       "0"
      ]
     },
     "execution_count": 15,
     "metadata": {},
     "output_type": "execute_result"
    }
   ],
   "source": [
    "# your code here\n",
    "\n",
    "df['Age upon Outcome'] = df['Age upon Outcome'].fillna(df['Age upon Outcome'].median())\n",
    "\n",
    "# this should now be zero.\n",
    "df['Age upon Outcome'].isna().sum()"
   ]
  },
  {
   "cell_type": "markdown",
   "metadata": {},
   "source": [
    "13. The string cleaning and statistical imputation did work OK but in this case there was a much better option. We actually can compute the `Age upon Outcome` from two other columns in the dataset: `DateTime` and `Date of Birth`. Neither of these columns have nulls. Take the difference of the two columns, convert to days (use the vectorized dt.days attribute), and assign the resulting series to `Age upon Outcome`."
   ]
  },
  {
   "cell_type": "code",
   "execution_count": 16,
   "metadata": {},
   "outputs": [
    {
     "name": "stdout",
     "output_type": "stream",
     "text": [
      "There are 0 missing values.\n",
      "0    736\n",
      "1    371\n",
      "2    366\n",
      "3    128\n",
      "4      6\n",
      "Name: Age upon Outcome, dtype: int64\n"
     ]
    }
   ],
   "source": [
    "df['Age upon Outcome'] = (df['DateTime'] - df['Date of Birth']).dt.days\n",
    "\n",
    "print(\"There are \" + str(df['Age upon Outcome'].isna().sum()) + \" missing values.\")\n",
    "print(df['Age upon Outcome'].head())"
   ]
  },
  {
   "cell_type": "markdown",
   "metadata": {},
   "source": [
    "There was no guess work that was required to impute the values in the `Age upon Outcome` value."
   ]
  },
  {
   "cell_type": "markdown",
   "metadata": {
    "hidden": true
   },
   "source": [
    "14. Use `.map()` to turn the Sex upon Outcome column into a category with three values: Fixed, Intact, or Unknown. We have provided you a function `fixed_mapper` that transforms the distinct categories to our desired three values (Fixed, Intact, Unknown). This function will turn any NaNs to category Unknown -- explicitly making missing values its own category. Create a new column `Grouped Sex upon Outcome` that results from transforming `Sex upon Outcome` with `fixed_mapper`:"
   ]
  },
  {
   "cell_type": "code",
   "execution_count": 17,
   "metadata": {
    "hidden": true
   },
   "outputs": [
    {
     "name": "stdout",
     "output_type": "stream",
     "text": [
      "['Neutered Male' 'Unknown' 'Intact Male' 'Spayed Female' 'Intact Female'\n",
      " nan]\n"
     ]
    }
   ],
   "source": [
    "# pribt Categories in column\n",
    "print(df['Sex upon Outcome'].unique())\n",
    "\n",
    "# Provided function\n",
    "def fixed_mapper(status):\n",
    "    '''\n",
    "    Takes in the current status of animals and outputs whether they have been fixed\n",
    "    '''\n",
    "    if status in ['Neutered Male', 'Spayed Female']:\n",
    "        return 'Fixed'\n",
    "    elif status in ['Intact Male', 'Intact Female']:\n",
    "        return 'Intact'\n",
    "    else:\n",
    "        return 'Unknown'"
   ]
  },
  {
   "cell_type": "code",
   "execution_count": 18,
   "metadata": {
    "hidden": true
   },
   "outputs": [
    {
     "data": {
      "text/html": [
       "<div>\n",
       "<style scoped>\n",
       "    .dataframe tbody tr th:only-of-type {\n",
       "        vertical-align: middle;\n",
       "    }\n",
       "\n",
       "    .dataframe tbody tr th {\n",
       "        vertical-align: top;\n",
       "    }\n",
       "\n",
       "    .dataframe thead th {\n",
       "        text-align: right;\n",
       "    }\n",
       "</style>\n",
       "<table border=\"1\" class=\"dataframe\">\n",
       "  <thead>\n",
       "    <tr style=\"text-align: right;\">\n",
       "      <th></th>\n",
       "      <th>Grouped Sex upon Outcome</th>\n",
       "    </tr>\n",
       "  </thead>\n",
       "  <tbody>\n",
       "    <tr>\n",
       "      <th>0</th>\n",
       "      <td>Fixed</td>\n",
       "    </tr>\n",
       "    <tr>\n",
       "      <th>1</th>\n",
       "      <td>Fixed</td>\n",
       "    </tr>\n",
       "    <tr>\n",
       "      <th>2</th>\n",
       "      <td>Unknown</td>\n",
       "    </tr>\n",
       "    <tr>\n",
       "      <th>3</th>\n",
       "      <td>Fixed</td>\n",
       "    </tr>\n",
       "    <tr>\n",
       "      <th>4</th>\n",
       "      <td>Intact</td>\n",
       "    </tr>\n",
       "  </tbody>\n",
       "</table>\n",
       "</div>"
      ],
      "text/plain": [
       "  Grouped Sex upon Outcome\n",
       "0                    Fixed\n",
       "1                    Fixed\n",
       "2                  Unknown\n",
       "3                    Fixed\n",
       "4                   Intact"
      ]
     },
     "execution_count": 18,
     "metadata": {},
     "output_type": "execute_result"
    }
   ],
   "source": [
    "# Your code here\n",
    "df['Grouped Sex upon Outcome'] = df['Sex upon Outcome'].map(fixed_mapper)\n",
    "\n",
    "\n",
    "\n",
    "df[['Grouped Sex upon Outcome']].head()"
   ]
  },
  {
   "cell_type": "markdown",
   "metadata": {},
   "source": [
    "15. Create a bar graph to display the counts in each category for `Grouped Sex upon Outcome`."
   ]
  },
  {
   "cell_type": "code",
   "execution_count": 19,
   "metadata": {},
   "outputs": [
    {
     "data": {
      "image/png": "[encoded data removed]",
      "text/plain": [
       "<Figure size 640x480 with 1 Axes>"
      ]
     },
     "metadata": {},
     "output_type": "display_data"
    }
   ],
   "source": [
    "df['Grouped Sex upon Outcome'].value_counts().plot(kind='bar');"
   ]
  },
  {
   "cell_type": "markdown",
   "metadata": {},
   "source": [
    "16. `Outcome Type` is the target we are trying to predict. Count the number of nulls here:"
   ]
  },
  {
   "cell_type": "code",
   "execution_count": 20,
   "metadata": {},
   "outputs": [
    {
     "data": {
      "text/plain": [
       "24"
      ]
     },
     "execution_count": 20,
     "metadata": {},
     "output_type": "execute_result"
    }
   ],
   "source": [
    "# Your code here\n",
    "df['Outcome Type'].isna().sum()"
   ]
  },
  {
   "cell_type": "markdown",
   "metadata": {},
   "source": [
    "17. Drop all rows containing nulls in the `Outcome Type` column."
   ]
  },
  {
   "cell_type": "code",
   "execution_count": 21,
   "metadata": {},
   "outputs": [],
   "source": [
    "# Your code here\n",
    "df.dropna(subset=['Outcome Type'], inplace=True)"
   ]
  },
  {
   "cell_type": "markdown",
   "metadata": {},
   "source": [
    "Printing nulls in the dataset now:"
   ]
  },
  {
   "cell_type": "code",
   "execution_count": 22,
   "metadata": {},
   "outputs": [
    {
     "data": {
      "text/plain": [
       "Animal ID                       0\n",
       "Name                        40987\n",
       "DateTime                        0\n",
       "MonthYear                       0\n",
       "Date of Birth                   0\n",
       "Outcome Type                    0\n",
       "Animal Type                     0\n",
       "Sex upon Outcome                1\n",
       "Age upon Outcome                0\n",
       "Breed                           0\n",
       "Color                           0\n",
       "Age Number                      4\n",
       "Age Unit                        4\n",
       "Grouped Sex upon Outcome        0\n",
       "dtype: int64"
      ]
     },
     "execution_count": 22,
     "metadata": {},
     "output_type": "execute_result"
    }
   ],
   "source": [
    "# Sanity Check\n",
    "df.isna().sum()"
   ]
  },
  {
   "cell_type": "markdown",
   "metadata": {},
   "source": [
    "18. There are a lot of nulls in the `Name` column. While the exact name of an animal might not matter too much, maybe whether the animal has a name might indicate whether it was owned before. This might conceivably impact outcome for adoption. \n",
    "\n",
    "Thus, build a binary categorical variable that indicates whether a name is missing -- i.e. an indicator for whether a value is null or not. This should be a new column `Name Missing`."
   ]
  },
  {
   "cell_type": "code",
   "execution_count": 25,
   "metadata": {},
   "outputs": [
    {
     "data": {
      "text/html": [
       "<div>\n",
       "<style scoped>\n",
       "    .dataframe tbody tr th:only-of-type {\n",
       "        vertical-align: middle;\n",
       "    }\n",
       "\n",
       "    .dataframe tbody tr th {\n",
       "        vertical-align: top;\n",
       "    }\n",
       "\n",
       "    .dataframe thead th {\n",
       "        text-align: right;\n",
       "    }\n",
       "</style>\n",
       "<table border=\"1\" class=\"dataframe\">\n",
       "  <thead>\n",
       "    <tr style=\"text-align: right;\">\n",
       "      <th></th>\n",
       "      <th>Animal ID</th>\n",
       "      <th>Name</th>\n",
       "      <th>DateTime</th>\n",
       "      <th>MonthYear</th>\n",
       "      <th>Date of Birth</th>\n",
       "      <th>Outcome Type</th>\n",
       "      <th>Animal Type</th>\n",
       "      <th>Sex upon Outcome</th>\n",
       "      <th>Age upon Outcome</th>\n",
       "      <th>Breed</th>\n",
       "      <th>Color</th>\n",
       "      <th>Age Number</th>\n",
       "      <th>Age Unit</th>\n",
       "      <th>Grouped Sex upon Outcome</th>\n",
       "      <th>Name Missing</th>\n",
       "    </tr>\n",
       "  </thead>\n",
       "  <tbody>\n",
       "    <tr>\n",
       "      <th>0</th>\n",
       "      <td>A794011</td>\n",
       "      <td>Chunk</td>\n",
       "      <td>2019-05-08 18:20:00</td>\n",
       "      <td>May 2019</td>\n",
       "      <td>2017-05-02</td>\n",
       "      <td>Rto-Adopt</td>\n",
       "      <td>Cat</td>\n",
       "      <td>Neutered Male</td>\n",
       "      <td>736</td>\n",
       "      <td>Domestic Shorthair Mix</td>\n",
       "      <td>Brown Tabby/White</td>\n",
       "      <td>2</td>\n",
       "      <td>365.0</td>\n",
       "      <td>Fixed</td>\n",
       "      <td>False</td>\n",
       "    </tr>\n",
       "    <tr>\n",
       "      <th>1</th>\n",
       "      <td>A776359</td>\n",
       "      <td>Gizmo</td>\n",
       "      <td>2018-07-18 16:02:00</td>\n",
       "      <td>Jul 2018</td>\n",
       "      <td>2017-07-12</td>\n",
       "      <td>Adoption</td>\n",
       "      <td>Dog</td>\n",
       "      <td>Neutered Male</td>\n",
       "      <td>371</td>\n",
       "      <td>Chihuahua Shorthair Mix</td>\n",
       "      <td>White/Brown</td>\n",
       "      <td>1</td>\n",
       "      <td>365.0</td>\n",
       "      <td>Fixed</td>\n",
       "      <td>False</td>\n",
       "    </tr>\n",
       "    <tr>\n",
       "      <th>2</th>\n",
       "      <td>A821648</td>\n",
       "      <td>NaN</td>\n",
       "      <td>2020-08-16 11:38:00</td>\n",
       "      <td>Aug 2020</td>\n",
       "      <td>2019-08-16</td>\n",
       "      <td>Euthanasia</td>\n",
       "      <td>Other</td>\n",
       "      <td>Unknown</td>\n",
       "      <td>366</td>\n",
       "      <td>Raccoon</td>\n",
       "      <td>Gray</td>\n",
       "      <td>1</td>\n",
       "      <td>365.0</td>\n",
       "      <td>Unknown</td>\n",
       "      <td>True</td>\n",
       "    </tr>\n",
       "    <tr>\n",
       "      <th>3</th>\n",
       "      <td>A720371</td>\n",
       "      <td>Moose</td>\n",
       "      <td>2016-02-13 17:59:00</td>\n",
       "      <td>Feb 2016</td>\n",
       "      <td>2015-10-08</td>\n",
       "      <td>Adoption</td>\n",
       "      <td>Dog</td>\n",
       "      <td>Neutered Male</td>\n",
       "      <td>128</td>\n",
       "      <td>Anatol Shepherd/Labrador Retriever</td>\n",
       "      <td>Buff</td>\n",
       "      <td>4</td>\n",
       "      <td>30.0</td>\n",
       "      <td>Fixed</td>\n",
       "      <td>False</td>\n",
       "    </tr>\n",
       "    <tr>\n",
       "      <th>4</th>\n",
       "      <td>A674754</td>\n",
       "      <td>NaN</td>\n",
       "      <td>2014-03-18 11:47:00</td>\n",
       "      <td>Mar 2014</td>\n",
       "      <td>2014-03-12</td>\n",
       "      <td>Transfer</td>\n",
       "      <td>Cat</td>\n",
       "      <td>Intact Male</td>\n",
       "      <td>6</td>\n",
       "      <td>Domestic Shorthair Mix</td>\n",
       "      <td>Orange Tabby</td>\n",
       "      <td>6</td>\n",
       "      <td>1.0</td>\n",
       "      <td>Intact</td>\n",
       "      <td>True</td>\n",
       "    </tr>\n",
       "  </tbody>\n",
       "</table>\n",
       "</div>"
      ],
      "text/plain": [
       "  Animal ID   Name            DateTime MonthYear Date of Birth Outcome Type  \\\n",
       "0   A794011  Chunk 2019-05-08 18:20:00  May 2019    2017-05-02    Rto-Adopt   \n",
       "1   A776359  Gizmo 2018-07-18 16:02:00  Jul 2018    2017-07-12     Adoption   \n",
       "2   A821648    NaN 2020-08-16 11:38:00  Aug 2020    2019-08-16   Euthanasia   \n",
       "3   A720371  Moose 2016-02-13 17:59:00  Feb 2016    2015-10-08     Adoption   \n",
       "4   A674754    NaN 2014-03-18 11:47:00  Mar 2014    2014-03-12     Transfer   \n",
       "\n",
       "  Animal Type Sex upon Outcome  Age upon Outcome  \\\n",
       "0         Cat    Neutered Male               736   \n",
       "1         Dog    Neutered Male               371   \n",
       "2       Other          Unknown               366   \n",
       "3         Dog    Neutered Male               128   \n",
       "4         Cat      Intact Male                 6   \n",
       "\n",
       "                                Breed              Color  Age Number  \\\n",
       "0              Domestic Shorthair Mix  Brown Tabby/White           2   \n",
       "1             Chihuahua Shorthair Mix        White/Brown           1   \n",
       "2                             Raccoon               Gray           1   \n",
       "3  Anatol Shepherd/Labrador Retriever               Buff           4   \n",
       "4              Domestic Shorthair Mix       Orange Tabby           6   \n",
       "\n",
       "   Age Unit Grouped Sex upon Outcome  Name Missing  \n",
       "0     365.0                    Fixed         False  \n",
       "1     365.0                    Fixed         False  \n",
       "2     365.0                  Unknown          True  \n",
       "3      30.0                    Fixed         False  \n",
       "4       1.0                   Intact          True  "
      ]
     },
     "execution_count": 25,
     "metadata": {},
     "output_type": "execute_result"
    }
   ],
   "source": [
    "# Your code here\n",
    "df['Name Missing'] = df['Name'].isna()\n",
    "df.head()"
   ]
  },
  {
   "cell_type": "markdown",
   "metadata": {},
   "source": [
    "19. Create a new dataframe `clean_df` where all columns with NaNs have been dropped:"
   ]
  },
  {
   "cell_type": "code",
   "execution_count": 26,
   "metadata": {},
   "outputs": [],
   "source": [
    "df_clean = df.dropna(axis = 1)"
   ]
  },
  {
   "cell_type": "markdown",
   "metadata": {
    "hidden": true
   },
   "source": [
    "20. Print info on the cleaned dataframe and save the cleaned dataframe to a file `cleaned_animal_data.csv`."
   ]
  },
  {
   "cell_type": "code",
   "execution_count": 27,
   "metadata": {
    "hidden": true,
    "scrolled": false
   },
   "outputs": [
    {
     "name": "stdout",
     "output_type": "stream",
     "text": [
      "<class 'pandas.core.frame.DataFrame'>\n",
      "Index: 137056 entries, 0 to 137099\n",
      "Data columns (total 11 columns):\n",
      " #   Column                    Non-Null Count   Dtype         \n",
      "---  ------                    --------------   -----         \n",
      " 0   Animal ID                 137056 non-null  object        \n",
      " 1   DateTime                  137056 non-null  datetime64[ns]\n",
      " 2   MonthYear                 137056 non-null  object        \n",
      " 3   Date of Birth             137056 non-null  datetime64[ns]\n",
      " 4   Outcome Type              137056 non-null  object        \n",
      " 5   Animal Type               137056 non-null  object        \n",
      " 6   Age upon Outcome          137056 non-null  int64         \n",
      " 7   Breed                     137056 non-null  object        \n",
      " 8   Color                     137056 non-null  object        \n",
      " 9   Grouped Sex upon Outcome  137056 non-null  object        \n",
      " 10  Name Missing              137056 non-null  bool          \n",
      "dtypes: bool(1), datetime64[ns](2), int64(1), object(7)\n",
      "memory usage: 11.6+ MB\n",
      "None\n"
     ]
    }
   ],
   "source": [
    "# print cleaned data info\n",
    "print(df_clean.info())\n",
    "\n",
    "#save to file\n",
    "df_clean.to_csv('cleaned_animal_data.csv')"
   ]
  }
 ],
 "metadata": {
  "kernelspec": {
   "display_name": "Python 3",
   "language": "python",
   "name": "python3"
  },
  "language_info": {
   "codemirror_mode": {
    "name": "ipython",
    "version": 3
   },
   "file_extension": ".py",
   "mimetype": "text/x-python",
   "name": "python",
   "nbconvert_exporter": "python",
   "pygments_lexer": "ipython3",
   "version": "3.12.3"
  },
  "toc": {
   "base_numbering": 1,
   "nav_menu": {},
   "number_sections": true,
   "sideBar": true,
   "skip_h1_title": false,
   "title_cell": "Table of Contents",
   "title_sidebar": "TOC",
   "toc_cell": true,
   "toc_position": {
    "height": "calc(100% - 180px)",
    "left": "10px",
    "top": "150px",
    "width": "267px"
   },
   "toc_section_display": true,
   "toc_window_display": true
  }
 },
 "nbformat": 4,
 "nbformat_minor": 4
}
